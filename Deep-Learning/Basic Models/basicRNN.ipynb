{
 "cells": [
  {
   "cell_type": "markdown",
   "metadata": {},
   "source": [
    "Basic RNN for text modeling"
   ]
  },
  {
   "cell_type": "code",
   "execution_count": 1,
   "metadata": {},
   "outputs": [],
   "source": [
    "import tensorflow as tf\n",
    "tf.logging.set_verbosity(tf.logging.ERROR) #disable warnings\n",
    "import numpy as np\n",
    "import collections"
   ]
  },
  {
   "cell_type": "code",
   "execution_count": 2,
   "metadata": {},
   "outputs": [],
   "source": [
    "# Hyperparameters\n",
    "batchSz = 100\n",
    "windowSz = 100\n",
    "rnnSz = 50\n",
    "embedSz = 30\n",
    "vocabSz = 10000"
   ]
  },
  {
   "cell_type": "code",
   "execution_count": 3,
   "metadata": {},
   "outputs": [],
   "source": [
    "# Read data\n",
    "path = '/Users/cytology/simple-examples/data/ptb.train.txt'\n",
    "with tf.gfile.GFile(path) as f:\n",
    "    data = f.read().replace(\"/n\", \"<eos>\").split()"
   ]
  },
  {
   "cell_type": "code",
   "execution_count": 4,
   "metadata": {},
   "outputs": [],
   "source": [
    "batch_len = (len(data) - 1) // batchSz\n",
    "epoch_size = batch_len // windowSz"
   ]
  },
  {
   "cell_type": "code",
   "execution_count": 5,
   "metadata": {},
   "outputs": [],
   "source": [
    "# Convert words to IDs\n",
    "counter = sorted(collections.Counter(data).items(), \n",
    "                 key=lambda x: -x[1])[:vocabSz] # sort by frequency\n",
    "words, _ = list(zip(*counter))\n",
    "word_to_ID = dict(zip(words, range(len(words))))\n",
    "data = [word_to_ID[word] for word in data if word in word_to_ID]"
   ]
  },
  {
   "cell_type": "code",
   "execution_count": 6,
   "metadata": {},
   "outputs": [],
   "source": [
    "raw_data = tf.convert_to_tensor(data, tf.int32)\n",
    "batch_data = tf.reshape(raw_data[:batchSz * batch_len], \n",
    "                        [batchSz, batch_len])"
   ]
  },
  {
   "cell_type": "code",
   "execution_count": 7,
   "metadata": {},
   "outputs": [],
   "source": [
    "batchX = tf.placeholder(tf.int32, [batchSz, windowSz])\n",
    "batchY = tf.placeholder(tf.int32, [batchSz, windowSz])"
   ]
  },
  {
   "cell_type": "code",
   "execution_count": 8,
   "metadata": {},
   "outputs": [],
   "source": [
    "E = tf.Variable(tf.random_normal([vocabSz, embedSz], stddev=0.1))\n",
    "\n",
    "# embeddings = tf.nn.embedding_lookup(E, batch_data)\n",
    "\n"
   ]
  },
  {
   "cell_type": "code",
   "execution_count": 9,
   "metadata": {},
   "outputs": [
    {
     "name": "stdout",
     "output_type": "stream",
     "text": [
      "\n",
      "WARNING: The TensorFlow contrib module will not be included in TensorFlow 2.0.\n",
      "For more information, please see:\n",
      "  * https://github.com/tensorflow/community/blob/master/rfcs/20180907-contrib-sunset.md\n",
      "  * https://github.com/tensorflow/addons\n",
      "If you depend on functionality not listed there, please file an issue.\n",
      "\n"
     ]
    },
    {
     "ename": "TypeError",
     "evalue": "The value of a feed cannot be a tf.Tensor object. Acceptable feed values include Python scalars, strings, lists, numpy ndarrays, or TensorHandles. For reference, the tensor object was Tensor(\"strided_slice_1:0\", shape=(100, 100), dtype=int32) which was passed to the feed with key Tensor(\"Placeholder:0\", shape=(100, 100), dtype=int32).",
     "output_type": "error",
     "traceback": [
      "\u001b[0;31m---------------------------------------------------------------------------\u001b[0m",
      "\u001b[0;31mTypeError\u001b[0m                                 Traceback (most recent call last)",
      "\u001b[0;32m<ipython-input-9-02a26179176b>\u001b[0m in \u001b[0;36m<module>\u001b[0;34m\u001b[0m\n\u001b[1;32m     29\u001b[0m     \u001b[0mtargets\u001b[0m \u001b[0;34m=\u001b[0m \u001b[0mbatch_data\u001b[0m\u001b[0;34m[\u001b[0m\u001b[0;34m:\u001b[0m\u001b[0;34m,\u001b[0m \u001b[0mstart\u001b[0m\u001b[0;34m+\u001b[0m\u001b[0;36m1\u001b[0m\u001b[0;34m:\u001b[0m\u001b[0mend\u001b[0m\u001b[0;34m+\u001b[0m\u001b[0;36m1\u001b[0m\u001b[0;34m]\u001b[0m\u001b[0;34m\u001b[0m\u001b[0;34m\u001b[0m\u001b[0m\n\u001b[1;32m     30\u001b[0m     logts, nxts = sess.run([logits, nextState], feed_dict={\n\u001b[0;32m---> 31\u001b[0;31m         batchX:inpt, nextState:inputSt, batchY:targets})\n\u001b[0m\u001b[1;32m     32\u001b[0m     \u001b[0minputSt\u001b[0m \u001b[0;34m=\u001b[0m \u001b[0mnxts\u001b[0m\u001b[0;34m\u001b[0m\u001b[0;34m\u001b[0m\u001b[0m\n",
      "\u001b[0;32m~/anaconda3/lib/python3.7/site-packages/tensorflow/python/client/session.py\u001b[0m in \u001b[0;36mrun\u001b[0;34m(self, fetches, feed_dict, options, run_metadata)\u001b[0m\n\u001b[1;32m    927\u001b[0m     \u001b[0;32mtry\u001b[0m\u001b[0;34m:\u001b[0m\u001b[0;34m\u001b[0m\u001b[0;34m\u001b[0m\u001b[0m\n\u001b[1;32m    928\u001b[0m       result = self._run(None, fetches, feed_dict, options_ptr,\n\u001b[0;32m--> 929\u001b[0;31m                          run_metadata_ptr)\n\u001b[0m\u001b[1;32m    930\u001b[0m       \u001b[0;32mif\u001b[0m \u001b[0mrun_metadata\u001b[0m\u001b[0;34m:\u001b[0m\u001b[0;34m\u001b[0m\u001b[0;34m\u001b[0m\u001b[0m\n\u001b[1;32m    931\u001b[0m         \u001b[0mproto_data\u001b[0m \u001b[0;34m=\u001b[0m \u001b[0mtf_session\u001b[0m\u001b[0;34m.\u001b[0m\u001b[0mTF_GetBuffer\u001b[0m\u001b[0;34m(\u001b[0m\u001b[0mrun_metadata_ptr\u001b[0m\u001b[0;34m)\u001b[0m\u001b[0;34m\u001b[0m\u001b[0;34m\u001b[0m\u001b[0m\n",
      "\u001b[0;32m~/anaconda3/lib/python3.7/site-packages/tensorflow/python/client/session.py\u001b[0m in \u001b[0;36m_run\u001b[0;34m(self, handle, fetches, feed_dict, options, run_metadata)\u001b[0m\n\u001b[1;32m   1101\u001b[0m                             \u001b[0;34m'For reference, the tensor object was '\u001b[0m \u001b[0;34m+\u001b[0m\u001b[0;34m\u001b[0m\u001b[0;34m\u001b[0m\u001b[0m\n\u001b[1;32m   1102\u001b[0m                             \u001b[0mstr\u001b[0m\u001b[0;34m(\u001b[0m\u001b[0mfeed_val\u001b[0m\u001b[0;34m)\u001b[0m \u001b[0;34m+\u001b[0m \u001b[0;34m' which was passed to the '\u001b[0m\u001b[0;34m\u001b[0m\u001b[0;34m\u001b[0m\u001b[0m\n\u001b[0;32m-> 1103\u001b[0;31m                             'feed with key ' + str(feed) + '.')\n\u001b[0m\u001b[1;32m   1104\u001b[0m \u001b[0;34m\u001b[0m\u001b[0m\n\u001b[1;32m   1105\u001b[0m           \u001b[0msubfeed_dtype\u001b[0m \u001b[0;34m=\u001b[0m \u001b[0msubfeed_t\u001b[0m\u001b[0;34m.\u001b[0m\u001b[0mdtype\u001b[0m\u001b[0;34m.\u001b[0m\u001b[0mas_numpy_dtype\u001b[0m\u001b[0;34m\u001b[0m\u001b[0;34m\u001b[0m\u001b[0m\n",
      "\u001b[0;31mTypeError\u001b[0m: The value of a feed cannot be a tf.Tensor object. Acceptable feed values include Python scalars, strings, lists, numpy ndarrays, or TensorHandles. For reference, the tensor object was Tensor(\"strided_slice_1:0\", shape=(100, 100), dtype=int32) which was passed to the feed with key Tensor(\"Placeholder:0\", shape=(100, 100), dtype=int32)."
     ]
    }
   ],
   "source": [
    "W = tf.Variable(tf.random_normal([rnnSz, vocabSz], stddev=0.1))\n",
    "b = tf.Variable(tf.random_normal([vocabSz]))\n",
    "\n",
    "embeddings = tf.nn.embedding_lookup(E, batchX)\n",
    "\n",
    "rnn = tf.contrib.rnn.BasicRNNCell(rnnSz)\n",
    "initialState = rnn.zero_state(batchSz, tf.float32)\n",
    "outputs, nextState = tf.nn.dynamic_rnn(rnn, embeddings, initial_state=initialState)\n",
    "\n",
    "output2 = tf.reshape(outputs, [batchSz*windowSz, rnnSz])\n",
    "\n",
    "logits = tf.matmul(output2, W) + b\n",
    "\n",
    "# xEnt = tf.nn.sparse_softmax_cross_entropy_with_logits(logits=logits, labels=batchY)\n",
    "# loss = tf.reduce_mean(xEnt)\n",
    "# perplexity = tf.math.exp(loss)\n",
    "\n",
    "# sess = tf.Session()\n",
    "# sess.run(tf.global_variables_initializer())\n",
    "\n",
    "sess = tf.Session()\n",
    "sess.run(tf.global_variables_initializer())\n",
    "\n",
    "inputSt = sess.run(initialState)\n",
    "for i in range(epoch_size):\n",
    "    start = i * windowSz\n",
    "    end = start + windowSz\n",
    "    inpt = batch_data[:, start:end]\n",
    "    targets = batch_data[:, start+1:end+1]\n",
    "    logts, nxts = sess.run([logits, nextState], feed_dict={\n",
    "        batchX:inpt, nextState:inputSt, batchY:targets})\n",
    "    inputSt = nxts"
   ]
  },
  {
   "cell_type": "code",
   "execution_count": null,
   "metadata": {},
   "outputs": [],
   "source": [
    "sess.run(tf.shape(logits))"
   ]
  },
  {
   "cell_type": "code",
   "execution_count": null,
   "metadata": {},
   "outputs": [],
   "source": []
  }
 ],
 "metadata": {
  "kernelspec": {
   "display_name": "Python 3",
   "language": "python",
   "name": "python3"
  },
  "language_info": {
   "codemirror_mode": {
    "name": "ipython",
    "version": 3
   },
   "file_extension": ".py",
   "mimetype": "text/x-python",
   "name": "python",
   "nbconvert_exporter": "python",
   "pygments_lexer": "ipython3",
   "version": "3.7.2"
  }
 },
 "nbformat": 4,
 "nbformat_minor": 2
}
