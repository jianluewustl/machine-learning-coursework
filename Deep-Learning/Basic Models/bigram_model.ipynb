{
 "cells": [
  {
   "cell_type": "code",
   "execution_count": null,
   "metadata": {},
   "outputs": [],
   "source": [
    "import tensorflow as tf\n",
    "tf.logging.set_verbosity(tf.logging.ERROR) #disable warnings\n",
    "import string\n",
    "import matplotlib.pyplot as plt"
   ]
  },
  {
   "cell_type": "code",
   "execution_count": null,
   "metadata": {},
   "outputs": [],
   "source": [
    "# read text corpus\n",
    "f = open('iliad.txt', 'r')\n",
    "text = f.read()\n",
    "f.close()"
   ]
  },
  {
   "cell_type": "code",
   "execution_count": null,
   "metadata": {},
   "outputs": [],
   "source": [
    "# Function for normalizing strings.\n",
    "def normalize(s):\n",
    "    s = s.replace('.', ' stop ')\n",
    "    s = s.replace('\\n', ' ')\n",
    "    for p in string.punctuation:\n",
    "        s = s.replace(p, '')\n",
    "    return s.lower().strip()"
   ]
  },
  {
   "cell_type": "code",
   "execution_count": null,
   "metadata": {},
   "outputs": [],
   "source": [
    "text = normalize(text).split(' ')\n",
    "text = [x for x in text if x] #remove empty strings\n",
    "vocabulary = list(set(text))\n",
    "print('Text length:', len(text))\n",
    "print('Vocabulary length:', len(vocabulary))"
   ]
  },
  {
   "cell_type": "code",
   "execution_count": null,
   "metadata": {},
   "outputs": [],
   "source": [
    "batchSz = 100\n",
    "embedSz = 30\n",
    "vocabSz = len(vocabulary)\n",
    "hiddenLayerSz = embedSz\n",
    "\n",
    "W = tf.Variable(tf.random_normal([embedSz, vocabSz], stddev=0.1))\n",
    "b = tf.Variable(tf.random_normal([vocabSz]))\n",
    "\n",
    "inpt = tf.placeholder(tf.int32, shape=[batchSz])\n",
    "answr = tf.placeholder(tf.int32, shape=[batchSz])\n",
    "E = tf.Variable(tf.random_normal([vocabSz, embedSz], stddev=0.1))\n",
    "\n",
    "embed = tf.nn.embedding_lookup(E, inpt)\n",
    "logits = tf.matmul(embed, W) + b\n",
    "\n",
    "xEnt = tf.nn.sparse_softmax_cross_entropy_with_logits(logits=logits, labels=answr)\n",
    "loss = tf.reduce_sum(xEnt)\n",
    "\n",
    "train = tf.train.GradientDescentOptimizer(0.1).minimize(xEnt)\n",
    "\n",
    "sess = tf.Session()\n",
    "sess.run(tf.global_variables_initializer())\n",
    "\n",
    "losses = []\n",
    "for j in range(5): #epochs\n",
    "    for i in range(1000): #batches\n",
    "        start = i*batchSz\n",
    "        stop = start + batchSz\n",
    "        w1, w2 = text[start:stop], text[start+1:stop+1]\n",
    "        inpts = [vocabulary.index(w) for w in w1]\n",
    "        answrs = [vocabulary.index(w) for w in w2]\n",
    "        lss, _ = sess.run([loss, train], feed_dict={inpt:inpts, answr:answrs})\n",
    "    losses.append(lss)\n",
    "    print('Epoch %i: %f' % (j+1, lss))\n"
   ]
  },
  {
   "cell_type": "code",
   "execution_count": null,
   "metadata": {},
   "outputs": [],
   "source": [
    "fig, ax = plt.subplots()\n",
    "ax.plot(losses)\n",
    "plt.show()"
   ]
  },
  {
   "cell_type": "code",
   "execution_count": null,
   "metadata": {},
   "outputs": [],
   "source": [
    "print(lss)"
   ]
  },
  {
   "cell_type": "code",
   "execution_count": null,
   "metadata": {},
   "outputs": [],
   "source": [
    "start = i*batchSz\n",
    "stop = start + batchSz\n",
    "w1, w2 = text[start:stop], text[start+1:stop+1]\n",
    "inpts = [vocabulary.index(w) for w in w1]\n",
    "answrs = [vocabulary.index(w) for w in w2]"
   ]
  },
  {
   "cell_type": "code",
   "execution_count": null,
   "metadata": {},
   "outputs": [],
   "source": [
    "type(inpts[1])"
   ]
  },
  {
   "cell_type": "code",
   "execution_count": null,
   "metadata": {},
   "outputs": [],
   "source": []
  }
 ],
 "metadata": {
  "kernelspec": {
   "display_name": "Python 3",
   "language": "python",
   "name": "python3"
  },
  "language_info": {
   "codemirror_mode": {
    "name": "ipython",
    "version": 3
   },
   "file_extension": ".py",
   "mimetype": "text/x-python",
   "name": "python",
   "nbconvert_exporter": "python",
   "pygments_lexer": "ipython3",
   "version": "3.7.2"
  }
 },
 "nbformat": 4,
 "nbformat_minor": 2
}
