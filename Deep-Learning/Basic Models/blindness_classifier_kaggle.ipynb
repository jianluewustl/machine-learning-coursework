{
 "cells": [
  {
   "cell_type": "code",
   "execution_count": 1,
   "metadata": {},
   "outputs": [],
   "source": [
    "import tensorflow as tf\n",
    "import matplotlib.pyplot as plt\n",
    "%matplotlib inline\n",
    "import pandas as pd\n",
    "import pathlib\n",
    "import numpy as np"
   ]
  },
  {
   "cell_type": "code",
   "execution_count": 2,
   "metadata": {},
   "outputs": [
    {
     "data": {
      "text/plain": [
       "True"
      ]
     },
     "execution_count": 2,
     "metadata": {},
     "output_type": "execute_result"
    }
   ],
   "source": [
    "tf.test.is_gpu_available()"
   ]
  },
  {
   "cell_type": "code",
   "execution_count": 3,
   "metadata": {},
   "outputs": [
    {
     "name": "stdout",
     "output_type": "stream",
     "text": [
      "Version: 2.0.0-beta1\n"
     ]
    }
   ],
   "source": [
    "print('Version: {}'.format(tf.__version__))"
   ]
  },
  {
   "cell_type": "code",
   "execution_count": 4,
   "metadata": {},
   "outputs": [],
   "source": [
    "import csv\n",
    "id_dict ={}\n",
    "with open('train.csv', newline='') as csvfile:\n",
    "    reader = csv.reader(csvfile)\n",
    "    next(reader)\n",
    "    for k,v in reader:\n",
    "        id_dict[k] = int(v)"
   ]
  },
  {
   "cell_type": "code",
   "execution_count": 5,
   "metadata": {},
   "outputs": [],
   "source": [
    "AUTOTUNE = tf.data.experimental.AUTOTUNE"
   ]
  },
  {
   "cell_type": "code",
   "execution_count": 6,
   "metadata": {},
   "outputs": [],
   "source": [
    "main_path = pathlib.Path(r\"C:\\Users\\Toby-PC\\Documents\\code\\blindness_kaggle\")\n",
    "train_path = main_path / 'train_cropped'\n",
    "test_path = main_path / 'test_cropped'"
   ]
  },
  {
   "cell_type": "code",
   "execution_count": 7,
   "metadata": {},
   "outputs": [
    {
     "name": "stdout",
     "output_type": "stream",
     "text": [
      "Number of training images: 3662\n"
     ]
    }
   ],
   "source": [
    "import random\n",
    "train_image_paths = [str(path) for path in list(train_path.glob('*.png'))]\n",
    "random.shuffle(train_image_paths)\n",
    "# test_image_paths = [str(path) for path in list(test_path.glob('*.png'))]\n",
    "\n",
    "\n",
    "print('Number of training images:', len(train_image_paths))\n",
    "# print('Number of testing images:', len(test_image_paths))"
   ]
  },
  {
   "cell_type": "code",
   "execution_count": 8,
   "metadata": {},
   "outputs": [],
   "source": [
    "labels = [id_dict[path[-16:-4]] for path in train_image_paths]"
   ]
  },
  {
   "cell_type": "code",
   "execution_count": 9,
   "metadata": {},
   "outputs": [],
   "source": [
    "from sklearn.model_selection import train_test_split\n",
    "X_train, X_test, y_train, y_test = train_test_split(train_image_paths, labels, test_size=0.2)"
   ]
  },
  {
   "cell_type": "code",
   "execution_count": 10,
   "metadata": {},
   "outputs": [
    {
     "data": {
      "text/plain": [
       "2929"
      ]
     },
     "execution_count": 10,
     "metadata": {},
     "output_type": "execute_result"
    }
   ],
   "source": [
    "image_count = len(X_train)\n",
    "image_count"
   ]
  },
  {
   "cell_type": "code",
   "execution_count": 11,
   "metadata": {},
   "outputs": [],
   "source": [
    "target_im_size = [384, 384]\n",
    "\n",
    "def preprocess_image(image, random=False):\n",
    "    image = tf.image.decode_png(image, channels=3)\n",
    "    if random:\n",
    "        image = tf.image.random_flip_left_right(image)\n",
    "        image = tf.image.random_flip_up_down(image)\n",
    "        image = tf.image.random_saturation(image, 0.8, 1.2)\n",
    "        image = tf.image.random_hue(image, 0.2)\n",
    "        image = tf.image.rot90(image, tf.random_uniform(shape=[], minval=0, maxval=4, dtype=tf.int32))\n",
    "        image = tf.image.random_shift(image, 0.2, 0.2)\n",
    "        image = tf.image.random_zoom(image, (0.6, 1))\n",
    "    else:\n",
    "        pass\n",
    "    \n",
    "#     image = tf.image.rgb_to_grayscale(image)\n",
    "    image = tf.image.per_image_standardization(image)\n",
    "    image = tf.image.central_crop(image, 0.8)\n",
    "    image = tf.image.resize(image, target_im_size)\n",
    "    image = tf.cast(image, tf.float32)\n",
    "    image /= 255.0  \n",
    "    return image\n"
   ]
  },
  {
   "cell_type": "code",
   "execution_count": 12,
   "metadata": {},
   "outputs": [],
   "source": [
    "def load_and_preprocess_image(path, random=False):\n",
    "    image = tf.io.read_file(path)\n",
    "    return preprocess_image(image)"
   ]
  },
  {
   "cell_type": "code",
   "execution_count": 13,
   "metadata": {},
   "outputs": [],
   "source": [
    "train_path_ds = tf.data.Dataset.from_tensor_slices(X_train)\n",
    "test_path_ds = tf.data.Dataset.from_tensor_slices(X_test)"
   ]
  },
  {
   "cell_type": "code",
   "execution_count": 14,
   "metadata": {},
   "outputs": [
    {
     "name": "stderr",
     "output_type": "stream",
     "text": [
      "WARNING: Logging before flag parsing goes to stderr.\n",
      "W0712 20:11:51.408938 14760 deprecation.py:323] From c:\\users\\toby-pc\\documents\\code\\blindness_kaggle\\my_env\\lib\\site-packages\\tensorflow\\python\\ops\\image_ops_impl.py:1511: div (from tensorflow.python.ops.math_ops) is deprecated and will be removed in a future version.\n",
      "Instructions for updating:\n",
      "Deprecated in favor of operator or tf.math.divide.\n"
     ]
    }
   ],
   "source": [
    "from functools import partial\n",
    "\n",
    "train_image_ds = train_path_ds.map(partial(load_and_preprocess_image, random=True), num_parallel_calls=AUTOTUNE)\n",
    "test_image_ds = test_path_ds.map(load_and_preprocess_image, num_parallel_calls=AUTOTUNE)"
   ]
  },
  {
   "cell_type": "code",
   "execution_count": 15,
   "metadata": {
    "scrolled": false
   },
   "outputs": [],
   "source": [
    "# import matplotlib.pyplot as plt\n",
    "\n",
    "# plt.figure(figsize=(8,8))\n",
    "# for n, image in enumerate(train_image_ds.take(4)):\n",
    "#     plt.subplot(2,2,n+1)\n",
    "#     plt.imshow(image)\n",
    "#     plt.grid(False)\n",
    "#     plt.xticks([])\n",
    "#     plt.yticks([])\n",
    "#     plt.show()"
   ]
  },
  {
   "cell_type": "code",
   "execution_count": 16,
   "metadata": {},
   "outputs": [],
   "source": [
    "train_label_ds = tf.data.Dataset.from_tensor_slices(tf.cast(y_train, tf.int64))\n",
    "test_label_ds = tf.data.Dataset.from_tensor_slices(tf.cast(y_test, tf.int64))"
   ]
  },
  {
   "cell_type": "code",
   "execution_count": 17,
   "metadata": {},
   "outputs": [],
   "source": [
    "train_image_label_ds = tf.data.Dataset.zip((train_image_ds, train_label_ds))\n",
    "test_image_label_ds = tf.data.Dataset.zip((test_image_ds, test_label_ds))"
   ]
  },
  {
   "cell_type": "code",
   "execution_count": 18,
   "metadata": {},
   "outputs": [
    {
     "name": "stdout",
     "output_type": "stream",
     "text": [
      "<ZipDataset shapes: ((384, 384, 3), ()), types: (tf.float32, tf.int64)>\n"
     ]
    }
   ],
   "source": [
    "print(train_image_label_ds)"
   ]
  },
  {
   "cell_type": "code",
   "execution_count": 19,
   "metadata": {},
   "outputs": [],
   "source": [
    "# ds = tf.data.Dataset.from_tensor_slices((train_image_paths, train_labels))\n",
    "\n",
    "# # The tuples are unpacked into the positional arguments of the mapped function\n",
    "# def load_and_preprocess_from_path_label(path, label):\n",
    "#     return load_and_preprocess_image(path), label\n",
    "\n",
    "# image_label_ds = ds.map(load_and_preprocess_from_path_label)\n",
    "# image_label_ds"
   ]
  },
  {
   "cell_type": "code",
   "execution_count": 20,
   "metadata": {},
   "outputs": [
    {
     "data": {
      "text/plain": [
       "<PrefetchDataset shapes: ((None, 384, 384, 3), (None,)), types: (tf.float32, tf.int64)>"
      ]
     },
     "execution_count": 20,
     "metadata": {},
     "output_type": "execute_result"
    }
   ],
   "source": [
    "BATCH_SIZE = 64\n",
    "\n",
    "# Setting a shuffle buffer size as large as the dataset ensures that the data is\n",
    "# completely shuffled.\n",
    "ds = train_image_label_ds.shuffle(buffer_size=image_count)\n",
    "ds = ds.cache()\n",
    "\n",
    "ds = ds.repeat()\n",
    "ds = ds.batch(BATCH_SIZE)\n",
    "# `prefetch` lets the dataset fetch batches in the background while the model is training.\n",
    "ds = ds.prefetch(1)\n",
    "ds\n",
    "\n",
    "# Setting a shuffle buffer size as large as the dataset ensures that the data is\n",
    "# completely shuffled.\n",
    "testds = test_image_label_ds.shuffle(buffer_size=image_count)\n",
    "testds = testds.cache()\n",
    "\n",
    "testds = testds.repeat()\n",
    "testds = testds.batch(BATCH_SIZE)\n",
    "# `prefetch` lets the dataset fetch batches in the background while the model is training.\n",
    "testds = testds.prefetch(1)\n",
    "testds"
   ]
  },
  {
   "cell_type": "code",
   "execution_count": 21,
   "metadata": {},
   "outputs": [
    {
     "name": "stderr",
     "output_type": "stream",
     "text": [
      "W0712 20:11:51.820837 14760 nn_ops.py:4220] Large dropout rate: 0.8 (>0.5). In TensorFlow 2.x, dropout() uses dropout rate instead of keep_prob. Please ensure that this is intended.\n",
      "W0712 20:11:51.841780 14760 nn_ops.py:4220] Large dropout rate: 0.8 (>0.5). In TensorFlow 2.x, dropout() uses dropout rate instead of keep_prob. Please ensure that this is intended.\n"
     ]
    }
   ],
   "source": [
    "from tensorflow.keras import regularizers\n",
    "\n",
    "\n",
    "model = tf.keras.models.Sequential()\n",
    "\n",
    "model.add(tf.keras.layers.Conv2D(32, (7, 7), padding='valid', activation='relu', input_shape=(*target_im_size, 3))) # CNN Layer 1\n",
    "model.add(tf.keras.layers.MaxPooling2D((5, 5))) # Pooling layer 1\n",
    "\n",
    "model.add(tf.keras.layers.Conv2D(128, (3, 3), padding='valid', activation='relu')) # CNN Layer 1\n",
    "model.add(tf.keras.layers.MaxPooling2D((4, 4))) # Pooling layer 1\n",
    "\n",
    "# model.add(tf.keras.layers.Conv2D(128, (3, 3), padding='valid', activation='relu')) # CNN Layer 1\n",
    "# model.add(tf.keras.layers.MaxPooling2D((2, 2))) # Pooling layer 1\n",
    "\n",
    "# model.add(tf.keras.layers.DepthwiseConv2D(kernel_size=(3, 3), strides=(1, 1), padding='valid', depth_multiplier=1))\n",
    "\n",
    "model.add(tf.keras.layers.Conv2D(512, (3, 3), padding='valid', activation='relu')) # CNN Layer 1\n",
    "model.add(tf.keras.layers.Flatten()) # Flattening layer\n",
    "\n",
    "model.add(tf.keras.layers.Dense(128, activation='relu', kernel_regularizer=regularizers.l2(0.0))) # Fully-connected layer \"on top\"\n",
    "model.add(tf.keras.layers.Dropout(rate=0.8))\n",
    "\n",
    "# model.add(tf.keras.layers.Dense(64, activation='relu')) # Fully-connected layer \"on top\"\n",
    "# model.add(tf.keras.layers.Dropout(rate=0.5))\n",
    "\n",
    "model.add(tf.keras.layers.Dense(64, activation='relu', kernel_regularizer=regularizers.l2(0.0))) # Fully-connected layer \"on top\"\n",
    "model.add(tf.keras.layers.Dropout(rate=0.8))\n",
    "\n",
    "model.add(tf.keras.layers.Dense(5, activation='softmax')) # Softmax output from logits"
   ]
  },
  {
   "cell_type": "code",
   "execution_count": 22,
   "metadata": {},
   "outputs": [],
   "source": [
    "model.compile(optimizer='adam',\n",
    "             loss='sparse_categorical_crossentropy',\n",
    "             metrics=['accuracy'])"
   ]
  },
  {
   "cell_type": "code",
   "execution_count": 23,
   "metadata": {},
   "outputs": [
    {
     "name": "stdout",
     "output_type": "stream",
     "text": [
      "Model: \"sequential\"\n",
      "_________________________________________________________________\n",
      "Layer (type)                 Output Shape              Param #   \n",
      "=================================================================\n",
      "conv2d (Conv2D)              (None, 378, 378, 32)      4736      \n",
      "_________________________________________________________________\n",
      "max_pooling2d (MaxPooling2D) (None, 75, 75, 32)        0         \n",
      "_________________________________________________________________\n",
      "conv2d_1 (Conv2D)            (None, 73, 73, 128)       36992     \n",
      "_________________________________________________________________\n",
      "max_pooling2d_1 (MaxPooling2 (None, 18, 18, 128)       0         \n",
      "_________________________________________________________________\n",
      "conv2d_2 (Conv2D)            (None, 16, 16, 512)       590336    \n",
      "_________________________________________________________________\n",
      "flatten (Flatten)            (None, 131072)            0         \n",
      "_________________________________________________________________\n",
      "dense (Dense)                (None, 128)               16777344  \n",
      "_________________________________________________________________\n",
      "dropout (Dropout)            (None, 128)               0         \n",
      "_________________________________________________________________\n",
      "dense_1 (Dense)              (None, 64)                8256      \n",
      "_________________________________________________________________\n",
      "dropout_1 (Dropout)          (None, 64)                0         \n",
      "_________________________________________________________________\n",
      "dense_2 (Dense)              (None, 5)                 325       \n",
      "=================================================================\n",
      "Total params: 17,417,989\n",
      "Trainable params: 17,417,989\n",
      "Non-trainable params: 0\n",
      "_________________________________________________________________\n"
     ]
    }
   ],
   "source": [
    "model.summary()"
   ]
  },
  {
   "cell_type": "code",
   "execution_count": 24,
   "metadata": {},
   "outputs": [],
   "source": [
    "steps_per_epoch=int(tf.math.ceil(len(X_train)/BATCH_SIZE).numpy())\n",
    "steps_per_epoch\n",
    "\n",
    "steps_per_test=int(tf.math.ceil(len(X_test)/BATCH_SIZE).numpy())"
   ]
  },
  {
   "cell_type": "code",
   "execution_count": 25,
   "metadata": {},
   "outputs": [],
   "source": [
    "import os\n",
    "root_logdir = os.path.join(os.curdir, \"my_logs\")\n",
    "\n",
    "def get_run_logdir():\n",
    "    import time\n",
    "    run_id = time.strftime(\"run_%Y_%m_%d-%H_%M_%S\")\n",
    "    return os.path.join(root_logdir, run_id)\n",
    "\n",
    "run_logdir = get_run_logdir() # e.g., './my_logs/run_2019_06_07-15_15_22'"
   ]
  },
  {
   "cell_type": "code",
   "execution_count": 26,
   "metadata": {},
   "outputs": [],
   "source": [
    "es = tf.keras.callbacks.EarlyStopping(monitor='val_loss', patience=20, restore_best_weights=True)\n",
    "tensorboard_cb = tf.keras.callbacks.TensorBoard(run_logdir)"
   ]
  },
  {
   "cell_type": "code",
   "execution_count": 27,
   "metadata": {
    "scrolled": true
   },
   "outputs": [
    {
     "name": "stdout",
     "output_type": "stream",
     "text": [
      "Epoch 1/500\n"
     ]
    },
    {
     "name": "stderr",
     "output_type": "stream",
     "text": [
      "W0712 20:12:00.180484 14760 deprecation.py:323] From c:\\users\\toby-pc\\documents\\code\\blindness_kaggle\\my_env\\lib\\site-packages\\tensorflow\\python\\ops\\math_grad.py:1250: add_dispatch_support.<locals>.wrapper (from tensorflow.python.ops.array_ops) is deprecated and will be removed in a future version.\n",
      "Instructions for updating:\n",
      "Use tf.where in 2.0, which has the same broadcast rule as np.where\n"
     ]
    },
    {
     "name": "stdout",
     "output_type": "stream",
     "text": [
      "46/46 [==============================] - 21s 465ms/step - loss: 1.7787 - accuracy: 0.3227 - val_loss: 1.3788 - val_accuracy: 0.5156\n",
      "Epoch 2/500\n",
      "46/46 [==============================] - 11s 231ms/step - loss: 1.3702 - accuracy: 0.4436 - val_loss: 1.0090 - val_accuracy: 0.5560\n",
      "Epoch 3/500\n",
      "46/46 [==============================] - 10s 227ms/step - loss: 1.2029 - accuracy: 0.5099 - val_loss: 0.9332 - val_accuracy: 0.7161\n",
      "Epoch 4/500\n",
      "46/46 [==============================] - 10s 225ms/step - loss: 1.1318 - accuracy: 0.5713 - val_loss: 0.9046 - val_accuracy: 0.6992\n",
      "Epoch 5/500\n",
      "46/46 [==============================] - 10s 223ms/step - loss: 1.0768 - accuracy: 0.6199 - val_loss: 0.8925 - val_accuracy: 0.7174\n",
      "Epoch 6/500\n",
      "46/46 [==============================] - 10s 212ms/step - loss: 1.0384 - accuracy: 0.6393 - val_loss: 0.8475 - val_accuracy: 0.7148\n",
      "Epoch 7/500\n",
      "46/46 [==============================] - 10s 215ms/step - loss: 1.0099 - accuracy: 0.6610 - val_loss: 0.8560 - val_accuracy: 0.7174\n",
      "Epoch 8/500\n",
      "46/46 [==============================] - 10s 214ms/step - loss: 1.0067 - accuracy: 0.6698 - val_loss: 0.8311 - val_accuracy: 0.7174\n",
      "Epoch 9/500\n",
      "46/46 [==============================] - 10s 215ms/step - loss: 0.9706 - accuracy: 0.6766 - val_loss: 0.8253 - val_accuracy: 0.7188\n",
      "Epoch 10/500\n",
      "46/46 [==============================] - 10s 215ms/step - loss: 0.9541 - accuracy: 0.6844 - val_loss: 0.8058 - val_accuracy: 0.7240\n",
      "Epoch 11/500\n",
      "46/46 [==============================] - 10s 213ms/step - loss: 0.9561 - accuracy: 0.6950 - val_loss: 0.8328 - val_accuracy: 0.7174\n",
      "Epoch 12/500\n",
      "46/46 [==============================] - 10s 213ms/step - loss: 0.9604 - accuracy: 0.6824 - val_loss: 0.8243 - val_accuracy: 0.7174\n",
      "Epoch 13/500\n",
      "46/46 [==============================] - 10s 217ms/step - loss: 0.9522 - accuracy: 0.6980 - val_loss: 0.8283 - val_accuracy: 0.7227\n",
      "Epoch 14/500\n",
      "46/46 [==============================] - 10s 216ms/step - loss: 0.9338 - accuracy: 0.6953 - val_loss: 0.8278 - val_accuracy: 0.7188\n",
      "Epoch 15/500\n",
      "46/46 [==============================] - 10s 224ms/step - loss: 0.9066 - accuracy: 0.7001 - val_loss: 0.8037 - val_accuracy: 0.7266\n",
      "Epoch 16/500\n",
      "46/46 [==============================] - 10s 224ms/step - loss: 0.9228 - accuracy: 0.6906 - val_loss: 0.8668 - val_accuracy: 0.7122\n",
      "Epoch 17/500\n",
      "46/46 [==============================] - 10s 216ms/step - loss: 0.9029 - accuracy: 0.6990 - val_loss: 0.7905 - val_accuracy: 0.7253\n",
      "Epoch 18/500\n",
      "46/46 [==============================] - 10s 216ms/step - loss: 0.9053 - accuracy: 0.7024 - val_loss: 0.7803 - val_accuracy: 0.7318\n",
      "Epoch 19/500\n",
      "46/46 [==============================] - 10s 215ms/step - loss: 0.8840 - accuracy: 0.7072 - val_loss: 0.7772 - val_accuracy: 0.7331\n",
      "Epoch 20/500\n",
      "46/46 [==============================] - 10s 213ms/step - loss: 0.8698 - accuracy: 0.7069 - val_loss: 0.7889 - val_accuracy: 0.7240\n",
      "Epoch 21/500\n",
      "46/46 [==============================] - 10s 213ms/step - loss: 0.8411 - accuracy: 0.7116 - val_loss: 0.7630 - val_accuracy: 0.7305\n",
      "Epoch 22/500\n",
      "46/46 [==============================] - 10s 222ms/step - loss: 0.8430 - accuracy: 0.7069 - val_loss: 0.8257 - val_accuracy: 0.7057\n",
      "Epoch 23/500\n",
      "46/46 [==============================] - 10s 223ms/step - loss: 0.8605 - accuracy: 0.7089 - val_loss: 0.7781 - val_accuracy: 0.7240\n",
      "Epoch 24/500\n",
      "46/46 [==============================] - 10s 222ms/step - loss: 0.8683 - accuracy: 0.7089 - val_loss: 0.7826 - val_accuracy: 0.7266\n",
      "Epoch 25/500\n",
      "46/46 [==============================] - 10s 220ms/step - loss: 0.8153 - accuracy: 0.7188 - val_loss: 0.8192 - val_accuracy: 0.7070\n",
      "Epoch 26/500\n",
      "46/46 [==============================] - 10s 225ms/step - loss: 0.8275 - accuracy: 0.7123 - val_loss: 0.7717 - val_accuracy: 0.7201\n",
      "Epoch 27/500\n",
      "46/46 [==============================] - 10s 218ms/step - loss: 0.8034 - accuracy: 0.7160 - val_loss: 0.7553 - val_accuracy: 0.7318\n",
      "Epoch 28/500\n",
      "46/46 [==============================] - 10s 220ms/step - loss: 0.7776 - accuracy: 0.7269 - val_loss: 0.7627 - val_accuracy: 0.7253\n",
      "Epoch 29/500\n",
      "46/46 [==============================] - 10s 223ms/step - loss: 0.7756 - accuracy: 0.7283 - val_loss: 0.7536 - val_accuracy: 0.7331\n",
      "Epoch 30/500\n",
      "46/46 [==============================] - 10s 213ms/step - loss: 0.7570 - accuracy: 0.7249 - val_loss: 0.7551 - val_accuracy: 0.7292\n",
      "Epoch 31/500\n",
      "46/46 [==============================] - 10s 213ms/step - loss: 0.7510 - accuracy: 0.7323 - val_loss: 0.7605 - val_accuracy: 0.7292\n",
      "Epoch 32/500\n",
      "46/46 [==============================] - 10s 214ms/step - loss: 0.7433 - accuracy: 0.7300 - val_loss: 0.7543 - val_accuracy: 0.7227\n",
      "Epoch 33/500\n",
      "46/46 [==============================] - 10s 214ms/step - loss: 0.7318 - accuracy: 0.7306 - val_loss: 0.7713 - val_accuracy: 0.7266\n",
      "Epoch 34/500\n",
      "46/46 [==============================] - 10s 219ms/step - loss: 0.7287 - accuracy: 0.7317 - val_loss: 0.7863 - val_accuracy: 0.7305\n",
      "Epoch 35/500\n",
      "46/46 [==============================] - 10s 222ms/step - loss: 0.7281 - accuracy: 0.7347 - val_loss: 0.7781 - val_accuracy: 0.7318\n",
      "Epoch 36/500\n",
      "46/46 [==============================] - 10s 223ms/step - loss: 0.7335 - accuracy: 0.7272 - val_loss: 0.8379 - val_accuracy: 0.7331\n",
      "Epoch 37/500\n",
      "46/46 [==============================] - 11s 230ms/step - loss: 0.7279 - accuracy: 0.7330 - val_loss: 0.7854 - val_accuracy: 0.7331\n",
      "Epoch 38/500\n",
      "46/46 [==============================] - 10s 225ms/step - loss: 0.7052 - accuracy: 0.7347 - val_loss: 0.8132 - val_accuracy: 0.7305\n",
      "Epoch 39/500\n",
      "46/46 [==============================] - 10s 224ms/step - loss: 0.7033 - accuracy: 0.7395 - val_loss: 0.7996 - val_accuracy: 0.7240\n",
      "Epoch 40/500\n",
      "46/46 [==============================] - 10s 220ms/step - loss: 0.7137 - accuracy: 0.7357 - val_loss: 0.8120 - val_accuracy: 0.7227\n",
      "Epoch 41/500\n",
      "46/46 [==============================] - 10s 226ms/step - loss: 0.7125 - accuracy: 0.7296 - val_loss: 0.8318 - val_accuracy: 0.7383\n",
      "Epoch 42/500\n",
      "46/46 [==============================] - 10s 212ms/step - loss: 0.6955 - accuracy: 0.7364 - val_loss: 0.8177 - val_accuracy: 0.7344\n",
      "Epoch 43/500\n",
      "46/46 [==============================] - 10s 215ms/step - loss: 0.6911 - accuracy: 0.7371 - val_loss: 0.8108 - val_accuracy: 0.7318\n",
      "Epoch 44/500\n",
      "46/46 [==============================] - 10s 222ms/step - loss: 0.6628 - accuracy: 0.7401 - val_loss: 0.7965 - val_accuracy: 0.7357\n",
      "Epoch 45/500\n",
      "46/46 [==============================] - 10s 216ms/step - loss: 0.6526 - accuracy: 0.7442 - val_loss: 0.8255 - val_accuracy: 0.7383\n",
      "Epoch 46/500\n",
      "46/46 [==============================] - 10s 213ms/step - loss: 0.6372 - accuracy: 0.7497 - val_loss: 0.8351 - val_accuracy: 0.7344\n",
      "Epoch 47/500\n",
      "46/46 [==============================] - 10s 215ms/step - loss: 0.6458 - accuracy: 0.7459 - val_loss: 0.8212 - val_accuracy: 0.7383\n",
      "Epoch 48/500\n",
      "46/46 [==============================] - 10s 215ms/step - loss: 0.6226 - accuracy: 0.7483 - val_loss: 0.8417 - val_accuracy: 0.7331\n",
      "Epoch 49/500\n",
      "46/46 [==============================] - 10s 223ms/step - loss: 0.6307 - accuracy: 0.7449 - val_loss: 0.8199 - val_accuracy: 0.7357\n"
     ]
    }
   ],
   "source": [
    "# %load_ext tensorboard\n",
    "# %tensorboard --logdir=./my_logs --port=6006\n",
    "# !tensorboard --logdir=./my_logs --port=6006\n",
    "\n",
    "\n",
    "history = model.fit(ds, \n",
    "                    epochs=500, \n",
    "                    steps_per_epoch=steps_per_epoch, \n",
    "                    verbose=1,\n",
    "                    validation_data=testds,\n",
    "                    validation_steps=steps_per_test,\n",
    "                    callbacks=[es, tensorboard_cb]\n",
    "               )"
   ]
  },
  {
   "cell_type": "code",
   "execution_count": 28,
   "metadata": {},
   "outputs": [
    {
     "name": "stdout",
     "output_type": "stream",
     "text": [
      "12/12 [==============================] - 3s 248ms/step - loss: 0.7536 - accuracy: 0.7331\n"
     ]
    },
    {
     "data": {
      "text/plain": [
       "[0.7536208033561707, 0.73307294]"
      ]
     },
     "execution_count": 28,
     "metadata": {},
     "output_type": "execute_result"
    }
   ],
   "source": [
    "model.evaluate(testds, steps=steps_per_test)"
   ]
  },
  {
   "cell_type": "code",
   "execution_count": 29,
   "metadata": {},
   "outputs": [],
   "source": [
    "def plot_graphs(history, string):\n",
    "    plt.plot(history.history[string])\n",
    "    plt.plot(history.history['val_'+string])\n",
    "    plt.xlabel(\"Epochs\")\n",
    "    plt.ylabel(string)\n",
    "    plt.legend([string, 'val_'+string])\n",
    "    plt.title(f'Epoch vs. {string}')"
   ]
  },
  {
   "cell_type": "code",
   "execution_count": 30,
   "metadata": {},
   "outputs": [
    {
     "data": {
      "image/png": "[encoded data removed]",
      "text/plain": [
       "<Figure size 720x288 with 2 Axes>"
      ]
     },
     "metadata": {
      "needs_background": "light"
     },
     "output_type": "display_data"
    }
   ],
   "source": [
    "plt.figure(figsize=(10,4))\n",
    "plt.subplot(1,2,1)\n",
    "plot_graphs(history, 'accuracy')\n",
    "\n",
    "plt.subplot(1,2,2)\n",
    "plot_graphs(history, 'loss')\n",
    "\n"
   ]
  },
  {
   "cell_type": "code",
   "execution_count": null,
   "metadata": {},
   "outputs": [],
   "source": []
  },
  {
   "cell_type": "code",
   "execution_count": null,
   "metadata": {},
   "outputs": [],
   "source": []
  }
 ],
 "metadata": {
  "kernelspec": {
   "display_name": "Python 3",
   "language": "python",
   "name": "python3"
  },
  "language_info": {
   "codemirror_mode": {
    "name": "ipython",
    "version": 3
   },
   "file_extension": ".py",
   "mimetype": "text/x-python",
   "name": "python",
   "nbconvert_exporter": "python",
   "pygments_lexer": "ipython3",
   "version": "3.7.2"
  }
 },
 "nbformat": 4,
 "nbformat_minor": 2
}
