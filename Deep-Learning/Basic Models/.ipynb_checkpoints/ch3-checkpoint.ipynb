{
 "cells": [
  {
   "cell_type": "code",
   "execution_count": 3,
   "metadata": {},
   "outputs": [],
   "source": [
    "import tensorflow as tf\n",
    "tf.logging.set_verbosity(tf.logging.ERROR) #disable warnings\n",
    "import matplotlib.pyplot as plt\n",
    "from tensorflow.examples.tutorials.mnist import input_data"
   ]
  },
  {
   "cell_type": "code",
   "execution_count": 7,
   "metadata": {},
   "outputs": [
    {
     "name": "stdout",
     "output_type": "stream",
     "text": [
      "Extracting MNIST_data/train-images-idx3-ubyte.gz\n",
      "Extracting MNIST_data/train-labels-idx1-ubyte.gz\n",
      "Extracting MNIST_data/t10k-images-idx3-ubyte.gz\n",
      "Extracting MNIST_data/t10k-labels-idx1-ubyte.gz\n",
      "Test Accuracy: 0.9709000077247619\n"
     ]
    }
   ],
   "source": [
    "# Convolutional NN with 2 layers\n",
    "mnist = input_data.read_data_sets(\"MNIST_data/\", one_hot=True)\n",
    "\n",
    "batchSz = 100\n",
    "\n",
    "U = tf.Variable(tf.random_normal([784, 784], stddev=0.1))\n",
    "bU = tf.Variable(tf.random_normal([784], stddev=0.1))\n",
    "V = tf.Variable(tf.random_normal([784, 10], stddev=0.1))\n",
    "bV = tf.Variable(tf.random_normal([10], stddev=0.1))\n",
    "\n",
    "img = tf.placeholder(tf.float32, [batchSz, 784])\n",
    "ans = tf.placeholder(tf.float32, [batchSz, 10])\n",
    "\n",
    "image = tf.reshape(img, [100, 28, 28, 1]) #4d tensor of images, last dim. is channels\n",
    "flts = tf.Variable(tf.truncated_normal([4, 4, 1, 4], stddev=0.1)) #4x4 filters, 1 channel, 4 of them\n",
    "\n",
    "convOut = tf.nn.conv2d(image, flts, strides = [1, 2, 2, 1], padding='SAME')\n",
    "convOut = tf.nn.relu(convOut)\n",
    "convOut = tf.reshape(convOut, [100, 784])\n",
    "\n",
    "L1Output = tf.matmul(convOut, U) + bU\n",
    "L1Output = tf.nn.relu(L1Output)\n",
    "\n",
    "prbs = tf.nn.softmax(tf.matmul(L1Output, V) + bV)\n",
    "xEnt = tf.reduce_mean(-tf.reduce_sum(ans * tf.log(prbs), reduction_indices=[1]))\n",
    "\n",
    "train = tf.train.GradientDescentOptimizer(0.1).minimize(xEnt)\n",
    "numCorrect = tf.equal(tf.argmax(prbs, 1), tf.argmax(ans, 1))\n",
    "accuracy = tf.reduce_mean(tf.cast(numCorrect, tf.float32))\n",
    "\n",
    "sess = tf.Session()\n",
    "sess.run(tf.global_variables_initializer())\n",
    "\n",
    "accs = []\n",
    "for i in range(1000):\n",
    "    imgs, anss = mnist.train.next_batch(batchSz)\n",
    "    acc, _ = sess.run([accuracy, train], feed_dict={img:imgs, ans:anss})\n",
    "    accs.append(acc)\n",
    "\n",
    "sumAcc = 0\n",
    "for i in range(1000):\n",
    "    imgs, anss = mnist.test.next_batch(batchSz)\n",
    "    sumAcc += sess.run(accuracy, feed_dict={img:imgs, ans:anss})\n",
    "print(\"Test Accuracy: %r\" % (sumAcc/1000))\n"
   ]
  },
  {
   "cell_type": "code",
   "execution_count": null,
   "metadata": {},
   "outputs": [],
   "source": []
  }
 ],
 "metadata": {
  "kernelspec": {
   "display_name": "Python 3",
   "language": "python",
   "name": "python3"
  },
  "language_info": {
   "codemirror_mode": {
    "name": "ipython",
    "version": 3
   },
   "file_extension": ".py",
   "mimetype": "text/x-python",
   "name": "python",
   "nbconvert_exporter": "python",
   "pygments_lexer": "ipython3",
   "version": "3.7.2"
  }
 },
 "nbformat": 4,
 "nbformat_minor": 2
}
