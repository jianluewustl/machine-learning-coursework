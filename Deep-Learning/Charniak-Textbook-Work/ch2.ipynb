{
 "cells": [
  {
   "cell_type": "markdown",
   "metadata": {},
   "source": [
    "Exercises and examples from Introduction to Deep Learning by Eugene Charniak"
   ]
  },
  {
   "cell_type": "code",
   "execution_count": 1,
   "metadata": {},
   "outputs": [],
   "source": [
    "import tensorflow as tf\n",
    "tf.logging.set_verbosity(tf.logging.ERROR) #disable warnings\n",
    "from tensorflow.examples.tutorials.mnist import input_data\n",
    "import matplotlib.pyplot as plt"
   ]
  },
  {
   "cell_type": "code",
   "execution_count": null,
   "metadata": {},
   "outputs": [],
   "source": [
    "# Single layer\n",
    "mnist = input_data.read_data_sets(\"MNIST_data/\", one_hot=True)\n",
    "\n",
    "batchSz = 100\n",
    "W = tf.Variable(tf.random_normal([784, 10], stddev=0.1))\n",
    "b = tf.Variable(tf.random_normal([10], stddev=0.1))\n",
    "\n",
    "img = tf.placeholder(tf.float32, [batchSz,784])\n",
    "ans = tf.placeholder(tf.float32, [batchSz, 10])\n",
    "\n",
    "prbs = tf.nn.softmax(tf.matmul(img, W) + b)\n",
    "xEnt = tf.reduce_mean(-tf.reduce_sum(ans * tf.log(prbs), reduction_indices=[1]))\n",
    "\n",
    "train = tf.train.GradientDescentOptimizer(0.5).minimize(xEnt)\n",
    "numCorrect = tf.equal(tf.argmax(prbs, 1), tf.argmax(ans, 1))\n",
    "accuracy = tf.reduce_mean(tf.cast(numCorrect, tf.float32))\n",
    "\n",
    "sess = tf.Session()\n",
    "sess.run(tf.global_variables_initializer())\n",
    "\n",
    "accs = []\n",
    "\n",
    "for i in range(1000):\n",
    "    imgs, anss = mnist.train.next_batch(batchSz)\n",
    "    acc, ignore = sess.run([accuracy, train], feed_dict={img: imgs, ans: anss})\n",
    "    accs.append(acc)\n",
    "    \n",
    "sumAcc = 0\n",
    "for i in range(1000):\n",
    "    imgs, anss = mnist.test.next_batch(batchSz)\n",
    "    sumAcc += sess.run(accuracy, feed_dict={img: imgs, ans: anss})\n",
    "print(\"Test Accuracy: %r\" % (sumAcc/1000))"
   ]
  },
  {
   "cell_type": "code",
   "execution_count": null,
   "metadata": {},
   "outputs": [],
   "source": [
    "import matplotlib.pyplot as plt\n",
    "fig, ax = plt.subplots()\n",
    "ax.plot(accs)\n",
    "ax.set(title='Batch Iteration vs. Accuracy')\n",
    "plt.show()"
   ]
  },
  {
   "cell_type": "code",
   "execution_count": 4,
   "metadata": {},
   "outputs": [
    {
     "name": "stdout",
     "output_type": "stream",
     "text": [
      "Extracting MNIST_data/train-images-idx3-ubyte.gz\n",
      "Extracting MNIST_data/train-labels-idx1-ubyte.gz\n",
      "Extracting MNIST_data/t10k-images-idx3-ubyte.gz\n",
      "Extracting MNIST_data/t10k-labels-idx1-ubyte.gz\n",
      "Test Accuracy: 0.9394000025987626\n"
     ]
    }
   ],
   "source": [
    "# Multiple layers\n",
    "mnist = input_data.read_data_sets(\"MNIST_data/\", one_hot=True)\n",
    "\n",
    "batchSz = 100\n",
    "\n",
    "img = tf.placeholder(tf.float32, [batchSz, 784])\n",
    "ans = tf.placeholder(tf.float32, [batchSz, 10])\n",
    "\n",
    "U = tf.Variable(tf.random_normal([784, 784], stddev=0.1))\n",
    "bU = tf.Variable(tf.random_normal([784], stddev=0.1))\n",
    "V = tf.Variable(tf.random_normal([784, 10], stddev=0.1))\n",
    "bV = tf.Variable(tf.random_normal([10], stddev=0.1))\n",
    "L1Output = tf.matmul(img, U) + bU\n",
    "L1Output = tf.nn.relu(L1Output)\n",
    "\n",
    "prbs = tf.nn.softmax(tf.matmul(L1Output, V) + bV)\n",
    "xEnt = tf.reduce_mean(-tf.reduce_sum(ans * tf.log(prbs), reduction_indices=[1]))\n",
    "\n",
    "train = tf.train.GradientDescentOptimizer(0.05).minimize(xEnt)\n",
    "numCorrect = tf.equal(tf.argmax(prbs, 1), tf.argmax(ans, 1))\n",
    "accuracy = tf.reduce_mean(tf.cast(numCorrect, tf.float32))\n",
    "\n",
    "sess = tf.Session()\n",
    "sess.run(tf.global_variables_initializer())\n",
    "\n",
    "accs = []\n",
    "for i in range(1000):\n",
    "    imgs, anss = mnist.train.next_batch(batchSz)\n",
    "    acc, ignore = sess.run([accuracy, train], feed_dict={img: imgs, ans: anss})\n",
    "    accs.append(acc)\n",
    "    \n",
    "sumAcc = 0\n",
    "for i in range(1000):\n",
    "    imgs, anss = mnist.test.next_batch(batchSz)\n",
    "    sumAcc += sess.run(accuracy, feed_dict={img: imgs, ans: anss})\n",
    "print(\"Test Accuracy: %r\" % (sumAcc/1000))"
   ]
  },
  {
   "cell_type": "code",
   "execution_count": 6,
   "metadata": {},
   "outputs": [
    {
     "data": {
      "image/png": "[encoded data removed]",
      "text/plain": [
       "<Figure size 432x288 with 1 Axes>"
      ]
     },
     "metadata": {
      "needs_background": "light"
     },
     "output_type": "display_data"
    }
   ],
   "source": [
    "fig, ax = plt.subplots()\n",
    "ax.plot(accs)\n",
    "ax.set(title='Batch Iteration vs. Accuracy')\n",
    "plt.show()"
   ]
  },
  {
   "cell_type": "code",
   "execution_count": null,
   "metadata": {},
   "outputs": [],
   "source": []
  }
 ],
 "metadata": {
  "kernelspec": {
   "display_name": "Python 3",
   "language": "python",
   "name": "python3"
  },
  "language_info": {
   "codemirror_mode": {
    "name": "ipython",
    "version": 3
   },
   "file_extension": ".py",
   "mimetype": "text/x-python",
   "name": "python",
   "nbconvert_exporter": "python",
   "pygments_lexer": "ipython3",
   "version": "3.7.2"
  }
 },
 "nbformat": 4,
 "nbformat_minor": 2
}
